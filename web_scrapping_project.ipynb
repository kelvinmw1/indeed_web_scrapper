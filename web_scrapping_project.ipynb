{
  "nbformat": 4,
  "nbformat_minor": 0,
  "metadata": {
    "colab": {
      "provenance": [],
      "gpuType": "T4",
      "include_colab_link": true
    },
    "kernelspec": {
      "name": "python3",
      "display_name": "Python 3"
    },
    "language_info": {
      "name": "python"
    },
    "accelerator": "GPU"
  },
  "cells": [
    {
      "cell_type": "markdown",
      "metadata": {
        "id": "view-in-github",
        "colab_type": "text"
      },
      "source": [
        "<a href=\"https://colab.research.google.com/github/kelvinmw1/indeed_web_scrapper/blob/main/web_scrapping_project.ipynb\" target=\"_parent\"><img src=\"https://colab.research.google.com/assets/colab-badge.svg\" alt=\"Open In Colab\"/></a>"
      ]
    },
    {
      "cell_type": "code",
      "source": [
        "!pip install webdriver_manager\n",
        "!pip install selenium\n"
      ],
      "metadata": {
        "colab": {
          "base_uri": "https://localhost:8080/"
        },
        "id": "eXpfTnl6k90z",
        "outputId": "dc335471-f504-4d4e-d920-8082955579dd",
        "collapsed": true
      },
      "execution_count": 4,
      "outputs": [
        {
          "output_type": "stream",
          "name": "stdout",
          "text": [
            "Collecting webdriver_manager\n",
            "  Downloading webdriver_manager-4.0.2-py2.py3-none-any.whl.metadata (12 kB)\n",
            "Requirement already satisfied: requests in /usr/local/lib/python3.10/dist-packages (from webdriver_manager) (2.32.3)\n",
            "Collecting python-dotenv (from webdriver_manager)\n",
            "  Downloading python_dotenv-1.0.1-py3-none-any.whl.metadata (23 kB)\n",
            "Requirement already satisfied: packaging in /usr/local/lib/python3.10/dist-packages (from webdriver_manager) (24.1)\n",
            "Requirement already satisfied: charset-normalizer<4,>=2 in /usr/local/lib/python3.10/dist-packages (from requests->webdriver_manager) (3.3.2)\n",
            "Requirement already satisfied: idna<4,>=2.5 in /usr/local/lib/python3.10/dist-packages (from requests->webdriver_manager) (3.7)\n",
            "Requirement already satisfied: urllib3<3,>=1.21.1 in /usr/local/lib/python3.10/dist-packages (from requests->webdriver_manager) (2.0.7)\n",
            "Requirement already satisfied: certifi>=2017.4.17 in /usr/local/lib/python3.10/dist-packages (from requests->webdriver_manager) (2024.7.4)\n",
            "Downloading webdriver_manager-4.0.2-py2.py3-none-any.whl (27 kB)\n",
            "Downloading python_dotenv-1.0.1-py3-none-any.whl (19 kB)\n",
            "Installing collected packages: python-dotenv, webdriver_manager\n",
            "Successfully installed python-dotenv-1.0.1 webdriver_manager-4.0.2\n",
            "Collecting selenium\n",
            "  Downloading selenium-4.23.1-py3-none-any.whl.metadata (7.1 kB)\n",
            "Requirement already satisfied: urllib3<3,>=1.26 in /usr/local/lib/python3.10/dist-packages (from urllib3[socks]<3,>=1.26->selenium) (2.0.7)\n",
            "Collecting trio~=0.17 (from selenium)\n",
            "  Downloading trio-0.26.2-py3-none-any.whl.metadata (8.6 kB)\n",
            "Collecting trio-websocket~=0.9 (from selenium)\n",
            "  Downloading trio_websocket-0.11.1-py3-none-any.whl.metadata (4.7 kB)\n",
            "Requirement already satisfied: certifi>=2021.10.8 in /usr/local/lib/python3.10/dist-packages (from selenium) (2024.7.4)\n",
            "Requirement already satisfied: typing_extensions~=4.9 in /usr/local/lib/python3.10/dist-packages (from selenium) (4.12.2)\n",
            "Requirement already satisfied: websocket-client~=1.8 in /usr/local/lib/python3.10/dist-packages (from selenium) (1.8.0)\n",
            "Requirement already satisfied: attrs>=23.2.0 in /usr/local/lib/python3.10/dist-packages (from trio~=0.17->selenium) (24.2.0)\n",
            "Requirement already satisfied: sortedcontainers in /usr/local/lib/python3.10/dist-packages (from trio~=0.17->selenium) (2.4.0)\n",
            "Requirement already satisfied: idna in /usr/local/lib/python3.10/dist-packages (from trio~=0.17->selenium) (3.7)\n",
            "Collecting outcome (from trio~=0.17->selenium)\n",
            "  Downloading outcome-1.3.0.post0-py2.py3-none-any.whl.metadata (2.6 kB)\n",
            "Requirement already satisfied: sniffio>=1.3.0 in /usr/local/lib/python3.10/dist-packages (from trio~=0.17->selenium) (1.3.1)\n",
            "Requirement already satisfied: exceptiongroup in /usr/local/lib/python3.10/dist-packages (from trio~=0.17->selenium) (1.2.2)\n",
            "Collecting wsproto>=0.14 (from trio-websocket~=0.9->selenium)\n",
            "  Downloading wsproto-1.2.0-py3-none-any.whl.metadata (5.6 kB)\n",
            "Requirement already satisfied: pysocks!=1.5.7,<2.0,>=1.5.6 in /usr/local/lib/python3.10/dist-packages (from urllib3[socks]<3,>=1.26->selenium) (1.7.1)\n",
            "Collecting h11<1,>=0.9.0 (from wsproto>=0.14->trio-websocket~=0.9->selenium)\n",
            "  Downloading h11-0.14.0-py3-none-any.whl.metadata (8.2 kB)\n",
            "Downloading selenium-4.23.1-py3-none-any.whl (9.4 MB)\n",
            "\u001b[2K   \u001b[90m━━━━━━━━━━━━━━━━━━━━━━━━━━━━━━━━━━━━━━━━\u001b[0m \u001b[32m9.4/9.4 MB\u001b[0m \u001b[31m80.3 MB/s\u001b[0m eta \u001b[36m0:00:00\u001b[0m\n",
            "\u001b[?25hDownloading trio-0.26.2-py3-none-any.whl (475 kB)\n",
            "\u001b[2K   \u001b[90m━━━━━━━━━━━━━━━━━━━━━━━━━━━━━━━━━━━━━━━━\u001b[0m \u001b[32m476.0/476.0 kB\u001b[0m \u001b[31m36.2 MB/s\u001b[0m eta \u001b[36m0:00:00\u001b[0m\n",
            "\u001b[?25hDownloading trio_websocket-0.11.1-py3-none-any.whl (17 kB)\n",
            "Downloading wsproto-1.2.0-py3-none-any.whl (24 kB)\n",
            "Downloading outcome-1.3.0.post0-py2.py3-none-any.whl (10 kB)\n",
            "Downloading h11-0.14.0-py3-none-any.whl (58 kB)\n",
            "\u001b[2K   \u001b[90m━━━━━━━━━━━━━━━━━━━━━━━━━━━━━━━━━━━━━━━━\u001b[0m \u001b[32m58.3/58.3 kB\u001b[0m \u001b[31m5.2 MB/s\u001b[0m eta \u001b[36m0:00:00\u001b[0m\n",
            "\u001b[?25hInstalling collected packages: outcome, h11, wsproto, trio, trio-websocket, selenium\n",
            "Successfully installed h11-0.14.0 outcome-1.3.0.post0 selenium-4.23.1 trio-0.26.2 trio-websocket-0.11.1 wsproto-1.2.0\n"
          ]
        }
      ]
    },
    {
      "cell_type": "code",
      "execution_count": 34,
      "metadata": {
        "id": "gjLBgUeWkRpE"
      },
      "outputs": [],
      "source": [
        "# import necessary modules\n",
        "from bs4 import BeautifulSoup\n",
        "import requests\n",
        "import pandas as pd\n",
        "from lxml import etree as et\n",
        "from csv import writer\n",
        "from selenium import webdriver\n",
        "from webdriver_manager.chrome import ChromeDriverManager\n",
        "import time"
      ]
    },
    {
      "cell_type": "code",
      "source": [
        "def find_jobs():\n",
        "    html_text = requests.get('https://www.timesjobs.com/candidate/job-search.html?searchType=personalizedSearch&from=submit&searchTextSrc=ft&searchTextText=&txtKeywords=Data+Analyst+%2CData+Engineer%2CData+Scientist%2CPython+Developer+%2CMachine+Learning+Engineer&txtLocation=').text\n",
        "    soup = BeautifulSoup(html_text, 'lxml')\n",
        "    jobs = soup.find_all('li', class_ =\"clearfix job-bx wht-shd-bx\")\n",
        "    for job in jobs:\n",
        "        published_date = job.find('span', class_ = 'sim-posted').span.text\n",
        "        if 'few' in published_date:\n",
        "            comapny_name = job.find('h3', class_ = 'joblist-comp-name').text.replace(' ', '')\n",
        "            job_title = job.header.h2.a.text\n",
        "            skills = job.find('span', class_ = 'srp-skills').text.replace(' ', '')\n",
        "            salary = job.find('span', class_ = 'srp-salary')\n",
        "            job_link = job.header.h2.a['href']\n",
        "            print(f'Company Name: {comapny_name.strip()}')\n",
        "            print(f'Job Title: {job_title.strip()}')\n",
        "            print(f'Skills: {skills.strip()}')\n",
        "            print(f'Salary: {salary}')\n",
        "            print(f'job_link: {job_link}')\n",
        "\n",
        "            print('')\n",
        "\n",
        "if __name__ == '__main__':\n",
        "    while True:\n",
        "      find_jobs()\n",
        "      time_wait = 10\n",
        "      print(f'Waiting Time: {time_wait} minutes...')\n",
        "      time.sleep(time_wait * 60)\n",
        "\n"
      ],
      "metadata": {
        "id": "b4K3Dy6flV1E",
        "colab": {
          "base_uri": "https://localhost:8080/",
          "height": 1000
        },
        "collapsed": true,
        "outputId": "b1623e79-9be0-4730-a687-6017f72d4783"
      },
      "execution_count": 51,
      "outputs": [
        {
          "output_type": "stream",
          "name": "stdout",
          "text": [
            "Company Name: AnalyticsVidhya\n",
            "Job Title: Data Scientist  ( Machine Learning )\n",
            "Skills: algorithms,python,datamining,machinelearning,mysql\n",
            "Salary: None\n",
            "job_link: https://www.timesjobs.com/job-detail/data-scientist-machine-learning-analytics-vidhya-gurgaon-5-to-8-yrs-jobid-RlMk9LiZYLRzpSvf__PLUS__uAgZw==&source=srp\n",
            "\n",
            "Company Name: AnalyticsVidhya\n",
            "Job Title: Data Scientist-  ( Machine Learning )\n",
            "Skills: algorithms,sql,hadoop,bigdata,python,sas,machinelearning\n",
            "Salary: None\n",
            "job_link: https://www.timesjobs.com/job-detail/data-scientist-machine-learning-analytics-vidhya-delhi-delhi-ncr-4-to-7-yrs-jobid-nEp4ZLzvl6VzpSvf__PLUS__uAgZw==&source=srp\n",
            "\n",
            "Company Name: HRJobsPlacements\n",
            "(MoreJobs)\n",
            "Job Title: Senior Data Scientist - Machine Learning\n",
            "Skills: datascientist,datascience,seniordatascientist,java,r,nlp,DataModeling,ExtJS,Spark,Python\n",
            "Salary: None\n",
            "job_link: https://www.timesjobs.com/job-detail/senior-data-scientist-machine-learning-hr-jobs-placements-hyderabad-secunderabad-kolkata-mumbai-noida-greater-noida-pune-5-to-10-yrs-jobid-KpSjmBlZgmhzpSvf__PLUS__uAgZw==&source=srp\n",
            "\n",
            "Company Name: HRJobsPlacements\n",
            "(MoreJobs)\n",
            "Job Title: Senior Data Scientist - Machine Learning\n",
            "Skills: datascientist,datascience,seniordatascientist,java,r,nlp,DataModeling,ExtJS,Spark,Python\n",
            "Salary: None\n",
            "job_link: https://www.timesjobs.com/job-detail/senior-data-scientist-machine-learning-hr-jobs-placements-ahmedabad-bengaluru-bangalore-chennai-delhi-gurgaon-5-to-10-yrs-jobid-GuPVWXTeeeNzpSvf__PLUS__uAgZw==&source=srp\n",
            "\n",
            "Company Name: GoogleIndiaPvtLtd\n",
            "Job Title: Research Scientist ,  Machine Learning\n",
            "Skills: **machinelearning,computervision,deeplearning,coding(c/python),researchpublication**,algorithms,virtualreality,datamining,augmentedreality,graphics,compilers,naturallanguageprocessing,mobile,imaging,infrastructure\n",
            "Salary: None\n",
            "job_link: https://www.timesjobs.com/job-detail/research-scientist-machine-learning-google-india-pvt-ltd-switzerland-3-to-8-yrs-jobid-WNaN5Y__PLUS__oADxzpSvf__PLUS__uAgZw==&source=srp\n",
            "\n",
            "Company Name: GoogleIndiaPvtLtd\n",
            "Job Title: Research Scientist ,  Machine Learning\n",
            "Skills: machinelearning,computervision,deeplearning,coding(c/python),researchpublication,algorithms,virtualreality,datamining,augmentedreality,graphics,compilers,naturallanguageprocessing,mobile,imaging,infrastructure\n",
            "Salary: None\n",
            "job_link: https://www.timesjobs.com/job-detail/research-scientist-machine-learning-google-india-pvt-ltd-switzerland-2-to-5-yrs-jobid-__SLASH__Fat6tJT__PLUS__QdzpSvf__PLUS__uAgZw==&source=srp\n",
            "\n",
            "Company Name: GoogleIndiaPvtLtd\n",
            "Job Title: Research Scientist ,  Machine Learning\n",
            "Skills: machinelearning,computervision,deeplearning,codinginc/python,researchpublication,algorithms,virtualreality,datamining,augmentedreality,graphics,compilers,naturallanguageprocessing,mobile,imaging,infrastructure\n",
            "Salary: None\n",
            "job_link: https://www.timesjobs.com/job-detail/research-scientist-machine-learning-google-india-pvt-ltd-switzerland-1-to-5-yrs-jobid-YwJkDg__PLUS__4sDpzpSvf__PLUS__uAgZw==&source=srp\n",
            "\n",
            "Company Name: Cotocus\n",
            "Job Title: Machine Learning Engineer\n",
            "Skills: machinelearning,docker,datascience\n",
            "Salary: None\n",
            "job_link: https://www.timesjobs.com/job-detail/machine-learning-engineer-cotocus-bengaluru-bangalore-0-to-3-yrs-jobid-UuakCaarcmNzpSvf__PLUS__uAgZw==&source=srp\n",
            "\n",
            "Company Name: AvalanceGlobalSolutionsPvtLtd\n",
            "Job Title: Machine Learning Engineer\n",
            "Skills: hive,algorithms,python,scala,machinelearning,java,datastructures,hadoop,bigdata,opencv\n",
            "Salary: None\n",
            "job_link: https://www.timesjobs.com/job-detail/machine-learning-engineer-avalance-global-solutions-pvt-ltd-dubai-null-2-to-5-yrs-jobid-jtK__SLASH__TjDFaJ1zpSvf__PLUS__uAgZw==&source=srp\n",
            "\n",
            "Company Name: DellIndia\n",
            "Job Title: Senior Advisor - Machine Learning Engineer\n",
            "Skills: machinelearning,datascience,softwareengineering,mlops,generativeai,orchestration,informationtechnology,docker,git,linux,bigdata,productionenvironment\n",
            "Salary: None\n",
            "job_link: https://www.timesjobs.com/job-detail/senior-advisor-machine-learning-engineer-dell-india-bengaluru-bangalore-7-to-10-yrs-jobid-pfxRL7pYMHZzpSvf__PLUS__uAgZw==&source=srp\n",
            "\n",
            "Company Name: Bazaarvoice\n",
            "Job Title: Bazaarvoice - Senior Machine Learning Engineer\n",
            "Skills: **machinelearning,datascience,naturallanguageprocessing,python/scala,mlopsplatform**,algorithms,datamining,hosting,sql,softwaredelivery\n",
            "Salary: None\n",
            "job_link: https://www.timesjobs.com/job-detail/bazaarvoice-senior-machine-learning-engineer-bazaarvoice-bengaluru-bangalore-4-to-10-yrs-jobid-WfzAYeaOditzpSvf__PLUS__uAgZw==&source=srp\n",
            "\n",
            "Company Name: NielsenResearchLtd.Co.\n",
            "Job Title: Nielsen - Machine learning Engineer\n",
            "Skills: **machinelearning,datascience,statisticalanalysis,webtechnology,softwaredevelopment**,sql,java,git,debugging,softwareengineer,bigdata,python,teamplayer,problemsolving,javascript\n",
            "Salary: None\n",
            "job_link: https://www.timesjobs.com/job-detail/nielsen-machine-learning-engineer-nielsen-research-ltd-co-mumbai-7-to-10-yrs-jobid-KFdLshRrjQhzpSvf__PLUS__uAgZw==&source=srp\n",
            "\n",
            "Company Name: NielsenResearchLtd.Co.\n",
            "Job Title: Nielsen - Machine learning Engineer\n",
            "Skills: machinelearning,datascience,statisticalanalysis,softwaredevelopment,testautomation,sql,java,git,debugging,softwareengineer,bigdata,python,teamplayer,problemsolving,javascript\n",
            "Salary: None\n",
            "job_link: https://www.timesjobs.com/job-detail/nielsen-machine-learning-engineer-nielsen-research-ltd-co-gurgaon-7-to-10-yrs-jobid-7qDJM6UDF0pzpSvf__PLUS__uAgZw==&source=srp\n",
            "\n",
            "Company Name: NielsenResearchLtd.Co.\n",
            "Job Title: Nielsen - Machine learning Engineer\n",
            "Skills: machinelearning,datascience,pytorch,statisticalanalysis,softwaredevelopment,sql,java,git,debugging,softwareengineer,bigdata,python,teamplayer,problemsolving,javascript\n",
            "Salary: None\n",
            "job_link: https://www.timesjobs.com/job-detail/nielsen-machine-learning-engineer-nielsen-research-ltd-co-bengaluru-bangalore-7-to-10-yrs-jobid-WlCAua1w9vxzpSvf__PLUS__uAgZw==&source=srp\n",
            "\n",
            "Company Name: IQVIA\n",
            "Job Title: Senior Machine Learning Engineer\n",
            "Skills: machinelearning,algorithmdevelopment,prototypetransformation,datamodeling,sdlcknowledge,algorithms,c,java,technicalskills,python,naturallanguageprocessing,productionenvironment\n",
            "Salary: None\n",
            "job_link: https://www.timesjobs.com/job-detail/senior-machine-learning-engineer-iqvia-4-to-6-yrs-jobid-3RYXDtlNbOlzpSvf__PLUS__uAgZw==&source=srp\n",
            "\n",
            "Waiting Time: 10 minutes...\n"
          ]
        },
        {
          "output_type": "error",
          "ename": "KeyboardInterrupt",
          "evalue": "",
          "traceback": [
            "\u001b[0;31m---------------------------------------------------------------------------\u001b[0m",
            "\u001b[0;31mKeyboardInterrupt\u001b[0m                         Traceback (most recent call last)",
            "\u001b[0;32m<ipython-input-51-6a76992d4ad8>\u001b[0m in \u001b[0;36m<cell line: 21>\u001b[0;34m()\u001b[0m\n\u001b[1;32m     24\u001b[0m       \u001b[0mtime_wait\u001b[0m \u001b[0;34m=\u001b[0m \u001b[0;36m10\u001b[0m\u001b[0;34m\u001b[0m\u001b[0;34m\u001b[0m\u001b[0m\n\u001b[1;32m     25\u001b[0m       \u001b[0mprint\u001b[0m\u001b[0;34m(\u001b[0m\u001b[0;34mf'Waiting Time: {time_wait} minutes...'\u001b[0m\u001b[0;34m)\u001b[0m\u001b[0;34m\u001b[0m\u001b[0;34m\u001b[0m\u001b[0m\n\u001b[0;32m---> 26\u001b[0;31m       \u001b[0mtime\u001b[0m\u001b[0;34m.\u001b[0m\u001b[0msleep\u001b[0m\u001b[0;34m(\u001b[0m\u001b[0mtime_wait\u001b[0m \u001b[0;34m*\u001b[0m \u001b[0;36m60\u001b[0m\u001b[0;34m)\u001b[0m\u001b[0;34m\u001b[0m\u001b[0;34m\u001b[0m\u001b[0m\n\u001b[0m\u001b[1;32m     27\u001b[0m \u001b[0;34m\u001b[0m\u001b[0m\n",
            "\u001b[0;31mKeyboardInterrupt\u001b[0m: "
          ]
        }
      ]
    },
    {
      "cell_type": "code",
      "source": [],
      "metadata": {
        "id": "tNVq6JLn51wO"
      },
      "execution_count": null,
      "outputs": []
    }
  ]
}